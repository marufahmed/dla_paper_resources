{
 "cells": [
  {
   "cell_type": "code",
   "execution_count": 2,
   "id": "03a0b98b",
   "metadata": {},
   "outputs": [
    {
     "name": "stdout",
     "output_type": "stream",
     "text": [
      "Resized image saved to: resized_images/resized_dit2.png\n"
     ]
    }
   ],
   "source": [
    "from PIL import Image\n",
    "import os\n",
    "\n",
    "def normalize_and_save(image_path, target_resolution, output_folder, output_filename):\n",
    "    # Open the image\n",
    "    img = Image.open(image_path)\n",
    "    \n",
    "    # Calculate scaling factor for width and height\n",
    "    width_ratio = target_resolution[0] / img.width\n",
    "    height_ratio = target_resolution[1] / img.height\n",
    "    # Choose the minimum ratio to maintain the aspect ratio\n",
    "    resize_ratio = min(width_ratio, height_ratio)\n",
    "    \n",
    "    # Calculate new width and height\n",
    "    new_width = int(img.width * resize_ratio)\n",
    "    new_height = int(img.height * resize_ratio)\n",
    "    \n",
    "    # Resize the image using BICUBIC filter (or other available filter)\n",
    "    resized_img = img.resize((new_width, new_height), Image.BICUBIC)\n",
    "    \n",
    "    # Create output folder if it doesn't exist\n",
    "    if not os.path.exists(output_folder):\n",
    "        os.makedirs(output_folder)\n",
    "    \n",
    "    # Save the resized image to the specified folder\n",
    "    output_path = os.path.join(output_folder, output_filename)\n",
    "    resized_img.save(output_path)\n",
    "    \n",
    "    print(f\"Resized image saved to: {output_path}\")\n",
    "\n",
    "# Example usage\n",
    "image_path = \"accuracy_calculation/dit2.png\"\n",
    "target_resolution = (2480, 3508)  # Choose your desired resolution\n",
    "output_folder = \"resized_images\"\n",
    "output_filename = \"resized_dit2.png\"\n",
    "\n",
    "normalize_and_save(image_path, target_resolution, output_folder, output_filename)\n"
   ]
  },
  {
   "cell_type": "code",
   "execution_count": null,
   "id": "dc98e475",
   "metadata": {},
   "outputs": [],
   "source": []
  },
  {
   "cell_type": "code",
   "execution_count": null,
   "id": "fc98e295",
   "metadata": {},
   "outputs": [],
   "source": []
  },
  {
   "cell_type": "code",
   "execution_count": 14,
   "id": "057f7eb1",
   "metadata": {},
   "outputs": [
    {
     "name": "stdout",
     "output_type": "stream",
     "text": [
      "Resized image saved to: /Users/marufahmed/Work/Machine Learning/WACV/resized_images/Gujrati/dit.png\n"
     ]
    }
   ],
   "source": [
    "from PIL import Image\n",
    "import os\n",
    "\n",
    "def normalize_and_save(image_path, target_resolution, output_folder, output_filename):\n",
    "    # Open the image\n",
    "    img = Image.open(image_path)\n",
    "    \n",
    "    # Calculate scaling factor for width and height\n",
    "    width_ratio = target_resolution[0] / img.width\n",
    "    height_ratio = target_resolution[1] / img.height\n",
    "    # Choose the minimum ratio to maintain the aspect ratio\n",
    "    resize_ratio = min(width_ratio, height_ratio)\n",
    "    \n",
    "    # Calculate new width and height after resizing\n",
    "    new_width = round(img.width * resize_ratio)\n",
    "    new_height = round(img.height * resize_ratio)\n",
    "    \n",
    "    # Resize the image using BICUBIC filter (or other available filter)\n",
    "    resized_img = img.resize((new_width, new_height), Image.BICUBIC)\n",
    "    \n",
    "    # Create a blank canvas with the target resolution\n",
    "    canvas = Image.new(\"RGB\", target_resolution, color=\"white\")\n",
    "    \n",
    "    # Calculate position to paste the resized image (centered)\n",
    "    paste_position = (\n",
    "        (target_resolution[0] - new_width) // 2,\n",
    "        (target_resolution[1] - new_height) // 2\n",
    "    )\n",
    "    \n",
    "    # Paste the resized image onto the blank canvas\n",
    "    canvas.paste(resized_img, paste_position)\n",
    "    \n",
    "    # Create output folder if it doesn't exist\n",
    "    if not os.path.exists(output_folder):\n",
    "        os.makedirs(output_folder)\n",
    "    \n",
    "    # Save the final image\n",
    "    output_path = os.path.join(output_folder, output_filename)\n",
    "    canvas.save(output_path)\n",
    "    \n",
    "    print(f\"Resized image saved to: {output_path}\")\n",
    "\n",
    "# Example usage\n",
    "image_path = \"/Users/marufahmed/Work/Machine Learning/WACV/inferences/other_languages/gujrati/dit.png\"\n",
    "target_resolution = (2480, 3508)  # Choose your desired resolution\n",
    "output_folder = \"/Users/marufahmed/Work/Machine Learning/WACV/resized_images/Gujrati\"\n",
    "output_filename = \"dit.png\"\n",
    "\n",
    "normalize_and_save(image_path, target_resolution, output_folder, output_filename)\n"
   ]
  }
 ],
 "metadata": {
  "kernelspec": {
   "display_name": "Python 3 (ipykernel)",
   "language": "python",
   "name": "python3"
  },
  "language_info": {
   "codemirror_mode": {
    "name": "ipython",
    "version": 3
   },
   "file_extension": ".py",
   "mimetype": "text/x-python",
   "name": "python",
   "nbconvert_exporter": "python",
   "pygments_lexer": "ipython3",
   "version": "3.10.0"
  }
 },
 "nbformat": 4,
 "nbformat_minor": 5
}
